{
 "cells": [
  {
   "cell_type": "markdown",
   "id": "479838da",
   "metadata": {},
   "source": [
    "# 🧪 EDA + Migración CSV → Firestore\n",
    "\n",
    "Notebook listo para **Google Colab**. Sube `movies.csv` y tu **Service Account JSON**.\n",
    "Este flujo cubre:\n",
    "1) EDA rápido\n",
    "2) Migración de CSV a Firestore (colección `movies`)\n",
    "3) Lectura desde Firestore a `DataFrame`\n"
   ]
  },
  {
   "cell_type": "code",
   "execution_count": null,
   "id": "ae0ae257",
   "metadata": {},
   "outputs": [],
   "source": [
    "\n",
    "# Si usas Colab, descomenta para instalar dependencias\n",
    "# !pip -q install google-cloud-firestore pandas\n"
   ]
  },
  {
   "cell_type": "code",
   "execution_count": null,
   "id": "3bdf5ade",
   "metadata": {},
   "outputs": [],
   "source": [
    "\n",
    "import pandas as pd\n",
    "import json\n",
    "from google.cloud import firestore\n",
    "from google.oauth2 import service_account\n",
    "\n",
    "# === CONFIGURA ===\n",
    "CSV_PATH = \"movies.csv\"  # Ajusta si lo subiste con otro nombre\n",
    "SERVICE_ACCOUNT_JSON = \"service_account.json\"  # Sube tu JSON a Colab con este nombre\n",
    "PROJECT_ID = None  # Pon tu project_id si no viene en el JSON\n",
    "\n",
    "# Carga credenciales\n",
    "with open(SERVICE_ACCOUNT_JSON, \"r\") as f:\n",
    "    creds_dict = json.load(f)\n",
    "credentials = service_account.Credentials.from_service_account_info(creds_dict)\n",
    "project_id = PROJECT_ID or creds_dict[\"project_id\"]\n",
    "\n",
    "# Cliente de Firestore\n",
    "db = firestore.Client(credentials=credentials, project=project_id)\n",
    "\n",
    "# EDA rápido\n",
    "df = pd.read_csv(CSV_PATH)\n",
    "display(df.head())\n",
    "print(\"Filas, Columnas:\", df.shape)\n",
    "print(\"Columnas:\", list(df.columns))\n"
   ]
  },
  {
   "cell_type": "code",
   "execution_count": null,
   "id": "f1733470",
   "metadata": {},
   "outputs": [],
   "source": [
    "\n",
    "# MIGRACIÓN CSV -> Firestore (colección \"movies\")\n",
    "# Usa add() para IDs auto-generados. Campos esperados: name, director, genre, company\n",
    "# Si tus columnas tienen otro nombre, ajusta el mapeo.\n",
    "\n",
    "import math\n",
    "\n",
    "collection = db.collection(\"movies\")\n",
    "batch_size = 500\n",
    "batch = db.batch()\n",
    "count = 0\n",
    "\n",
    "for _, row in df.iterrows():\n",
    "    doc = {\n",
    "        \"name\": row.get(\"name\"),\n",
    "        \"director\": row.get(\"director\"),\n",
    "        \"genre\": row.get(\"genre\"),\n",
    "        \"company\": row.get(\"company\"),\n",
    "    }\n",
    "    ref = collection.document()  # ID autogenerado\n",
    "    batch.set(ref, doc)\n",
    "    count += 1\n",
    "    if count % batch_size == 0:\n",
    "        batch.commit()\n",
    "        batch = db.batch()\n",
    "# commit final\n",
    "batch.commit()\n",
    "print(f\"Migrados {count} documentos a la colección 'movies'.\")\n"
   ]
  },
  {
   "cell_type": "code",
   "execution_count": null,
   "id": "6871a7ae",
   "metadata": {},
   "outputs": [],
   "source": [
    "\n",
    "# Lectura de Firestore -> DataFrame\n",
    "docs = db.collection(\"movies\").stream()\n",
    "rows = []\n",
    "for d in docs:\n",
    "    data = d.to_dict() or {}\n",
    "    data[\"doc_id\"] = d.id\n",
    "    rows.append(data)\n",
    "movies_df = pd.DataFrame(rows)\n",
    "display(movies_df.head(20))\n",
    "print(\"Total documentos:\", movies_df.shape[0])\n"
   ]
  }
 ],
 "metadata": {},
 "nbformat": 4,
 "nbformat_minor": 5
}
